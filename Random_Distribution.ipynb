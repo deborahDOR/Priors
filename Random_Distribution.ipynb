{
 "cells": [
  {
   "cell_type": "code",
   "execution_count": 3,
   "id": "fac89b16",
   "metadata": {},
   "outputs": [],
   "source": [
    "from scipy.stats import randint \n",
    "import numpy as np \n",
    "import matplotlib.pyplot as plt \n"
   ]
  },
  {
   "cell_type": "code",
   "execution_count": 4,
   "id": "2d309632",
   "metadata": {},
   "outputs": [],
   "source": [
    "f_min=2e-5\n",
    "f_max=1\n",
    "\n",
    "\n",
    "numargs = randint.numargs \n",
    "a, b = f_min, f_max\n",
    "rv = randint (a, b) "
   ]
  },
  {
   "cell_type": "code",
   "execution_count": 6,
   "id": "2fa786a5",
   "metadata": {},
   "outputs": [
    {
     "ename": "ValueError",
     "evalue": "Domain error in arguments. The `scale` parameter must be positive for all distributions, and many distributions have restrictions on shape parameters. Please see the `scipy.stats.randint` documentation for details.",
     "output_type": "error",
     "traceback": [
      "\u001b[0;31m---------------------------------------------------------------------------\u001b[0m",
      "\u001b[0;31mValueError\u001b[0m                                Traceback (most recent call last)",
      "Cell \u001b[0;32mIn[6], line 4\u001b[0m\n\u001b[1;32m      1\u001b[0m quantile \u001b[38;5;241m=\u001b[39m np\u001b[38;5;241m.\u001b[39marange (\u001b[38;5;241m0.01\u001b[39m, \u001b[38;5;241m1\u001b[39m, \u001b[38;5;241m0.1\u001b[39m) \n\u001b[1;32m      3\u001b[0m \u001b[38;5;66;03m# Random Variates \u001b[39;00m\n\u001b[0;32m----> 4\u001b[0m R \u001b[38;5;241m=\u001b[39m \u001b[43mrandint\u001b[49m\u001b[38;5;241;43m.\u001b[39;49m\u001b[43mrvs\u001b[49m\u001b[43m(\u001b[49m\u001b[43ma\u001b[49m\u001b[43m,\u001b[49m\u001b[43m \u001b[49m\u001b[43mb\u001b[49m\u001b[43m,\u001b[49m\u001b[43m \u001b[49m\u001b[43msize\u001b[49m\u001b[43m \u001b[49m\u001b[38;5;241;43m=\u001b[39;49m\u001b[43m \u001b[49m\u001b[38;5;241;43m10\u001b[39;49m\u001b[43m)\u001b[49m \n\u001b[1;32m      5\u001b[0m \u001b[38;5;28mprint\u001b[39m (\u001b[38;5;124m\"\u001b[39m\u001b[38;5;124mRandom Variates : \u001b[39m\u001b[38;5;130;01m\\n\u001b[39;00m\u001b[38;5;124m\"\u001b[39m, R) \n\u001b[1;32m      7\u001b[0m \u001b[38;5;66;03m# PDF \u001b[39;00m\n",
      "File \u001b[0;32m~/Documents/lisaenv/lib/python3.9/site-packages/scipy/stats/_distn_infrastructure.py:3357\u001b[0m, in \u001b[0;36mrv_discrete.rvs\u001b[0;34m(self, *args, **kwargs)\u001b[0m\n\u001b[1;32m   3328\u001b[0m \u001b[38;5;250m\u001b[39m\u001b[38;5;124;03m\"\"\"Random variates of given type.\u001b[39;00m\n\u001b[1;32m   3329\u001b[0m \n\u001b[1;32m   3330\u001b[0m \u001b[38;5;124;03mParameters\u001b[39;00m\n\u001b[0;32m   (...)\u001b[0m\n\u001b[1;32m   3354\u001b[0m \n\u001b[1;32m   3355\u001b[0m \u001b[38;5;124;03m\"\"\"\u001b[39;00m\n\u001b[1;32m   3356\u001b[0m kwargs[\u001b[38;5;124m'\u001b[39m\u001b[38;5;124mdiscrete\u001b[39m\u001b[38;5;124m'\u001b[39m] \u001b[38;5;241m=\u001b[39m \u001b[38;5;28;01mTrue\u001b[39;00m\n\u001b[0;32m-> 3357\u001b[0m \u001b[38;5;28;01mreturn\u001b[39;00m \u001b[38;5;28;43msuper\u001b[39;49m\u001b[43m(\u001b[49m\u001b[43m)\u001b[49m\u001b[38;5;241;43m.\u001b[39;49m\u001b[43mrvs\u001b[49m\u001b[43m(\u001b[49m\u001b[38;5;241;43m*\u001b[39;49m\u001b[43margs\u001b[49m\u001b[43m,\u001b[49m\u001b[43m \u001b[49m\u001b[38;5;241;43m*\u001b[39;49m\u001b[38;5;241;43m*\u001b[39;49m\u001b[43mkwargs\u001b[49m\u001b[43m)\u001b[49m\n",
      "File \u001b[0;32m~/Documents/lisaenv/lib/python3.9/site-packages/scipy/stats/_distn_infrastructure.py:1036\u001b[0m, in \u001b[0;36mrv_generic.rvs\u001b[0;34m(self, *args, **kwds)\u001b[0m\n\u001b[1;32m   1030\u001b[0m \u001b[38;5;28;01mif\u001b[39;00m \u001b[38;5;129;01mnot\u001b[39;00m np\u001b[38;5;241m.\u001b[39mall(cond):\n\u001b[1;32m   1031\u001b[0m     message \u001b[38;5;241m=\u001b[39m (\u001b[38;5;124m\"\u001b[39m\u001b[38;5;124mDomain error in arguments. The `scale` parameter must \u001b[39m\u001b[38;5;124m\"\u001b[39m\n\u001b[1;32m   1032\u001b[0m                \u001b[38;5;124m\"\u001b[39m\u001b[38;5;124mbe positive for all distributions, and many \u001b[39m\u001b[38;5;124m\"\u001b[39m\n\u001b[1;32m   1033\u001b[0m                \u001b[38;5;124m\"\u001b[39m\u001b[38;5;124mdistributions have restrictions on shape parameters. \u001b[39m\u001b[38;5;124m\"\u001b[39m\n\u001b[1;32m   1034\u001b[0m                \u001b[38;5;124mf\u001b[39m\u001b[38;5;124m\"\u001b[39m\u001b[38;5;124mPlease see the `scipy.stats.\u001b[39m\u001b[38;5;132;01m{\u001b[39;00m\u001b[38;5;28mself\u001b[39m\u001b[38;5;241m.\u001b[39mname\u001b[38;5;132;01m}\u001b[39;00m\u001b[38;5;124m` \u001b[39m\u001b[38;5;124m\"\u001b[39m\n\u001b[1;32m   1035\u001b[0m                \u001b[38;5;124m\"\u001b[39m\u001b[38;5;124mdocumentation for details.\u001b[39m\u001b[38;5;124m\"\u001b[39m)\n\u001b[0;32m-> 1036\u001b[0m     \u001b[38;5;28;01mraise\u001b[39;00m \u001b[38;5;167;01mValueError\u001b[39;00m(message)\n\u001b[1;32m   1038\u001b[0m \u001b[38;5;28;01mif\u001b[39;00m np\u001b[38;5;241m.\u001b[39mall(scale \u001b[38;5;241m==\u001b[39m \u001b[38;5;241m0\u001b[39m):\n\u001b[1;32m   1039\u001b[0m     \u001b[38;5;28;01mreturn\u001b[39;00m loc\u001b[38;5;241m*\u001b[39mones(size, \u001b[38;5;124m'\u001b[39m\u001b[38;5;124md\u001b[39m\u001b[38;5;124m'\u001b[39m)\n",
      "\u001b[0;31mValueError\u001b[0m: Domain error in arguments. The `scale` parameter must be positive for all distributions, and many distributions have restrictions on shape parameters. Please see the `scipy.stats.randint` documentation for details."
     ]
    }
   ],
   "source": [
    "quantile = np.arange (0.01, 1, 0.1) \n",
    "  \n",
    "# Random Variates \n",
    "R = randint.rvs(a, b, size = 10) \n",
    "print (\"Random Variates : \\n\", R) \n",
    "  \n",
    "# PDF \n",
    "x = np.linspace(randint.ppf(0.01, a, b),\n",
    "                randint.ppf(0.99, a, b), 10)\n",
    "R = randint.ppf(x, 1, 3)\n",
    "print (\"\\nProbability Distribution : \\n\", R) "
   ]
  },
  {
   "cell_type": "code",
   "execution_count": null,
   "id": "215c0f58",
   "metadata": {},
   "outputs": [],
   "source": [
    "distribution = np.linspace(0, np.minimum(rv.dist.b, 2)) \n",
    "print(\"Distribution : \\n\", distribution) \n",
    "     \n",
    "plot = plt.plot(distribution, rv.ppf(distribution)) "
   ]
  },
  {
   "cell_type": "code",
   "execution_count": 8,
   "id": "827b7d45",
   "metadata": {},
   "outputs": [
    {
     "ename": "ValueError",
     "evalue": "arange: cannot compute length",
     "output_type": "error",
     "traceback": [
      "\u001b[0;31m---------------------------------------------------------------------------\u001b[0m",
      "\u001b[0;31mValueError\u001b[0m                                Traceback (most recent call last)",
      "Cell \u001b[0;32mIn[8], line 5\u001b[0m\n\u001b[1;32m      3\u001b[0m low, high \u001b[38;5;241m=\u001b[39m f_min, f_max\n\u001b[1;32m      4\u001b[0m mean, var, skew, kurt \u001b[38;5;241m=\u001b[39m randint\u001b[38;5;241m.\u001b[39mstats(low, high, moments\u001b[38;5;241m=\u001b[39m\u001b[38;5;124m'\u001b[39m\u001b[38;5;124mmvsk\u001b[39m\u001b[38;5;124m'\u001b[39m)\n\u001b[0;32m----> 5\u001b[0m x \u001b[38;5;241m=\u001b[39m \u001b[43mnp\u001b[49m\u001b[38;5;241;43m.\u001b[39;49m\u001b[43marange\u001b[49m\u001b[43m(\u001b[49m\u001b[43mrandint\u001b[49m\u001b[38;5;241;43m.\u001b[39;49m\u001b[43mppf\u001b[49m\u001b[43m(\u001b[49m\u001b[38;5;241;43m0.01\u001b[39;49m\u001b[43m,\u001b[49m\u001b[43m \u001b[49m\u001b[43mlow\u001b[49m\u001b[43m,\u001b[49m\u001b[43m \u001b[49m\u001b[43mhigh\u001b[49m\u001b[43m)\u001b[49m\u001b[43m,\u001b[49m\u001b[43mrandint\u001b[49m\u001b[38;5;241;43m.\u001b[39;49m\u001b[43mppf\u001b[49m\u001b[43m(\u001b[49m\u001b[38;5;241;43m0.99\u001b[39;49m\u001b[43m,\u001b[49m\u001b[43m \u001b[49m\u001b[43mlow\u001b[49m\u001b[43m,\u001b[49m\u001b[43m \u001b[49m\u001b[43mhigh\u001b[49m\u001b[43m)\u001b[49m\u001b[43m)\u001b[49m\n\u001b[1;32m      7\u001b[0m ax\u001b[38;5;241m.\u001b[39mplot(x, randint\u001b[38;5;241m.\u001b[39mpmf(x, low, high), \u001b[38;5;124m'\u001b[39m\u001b[38;5;124mbo\u001b[39m\u001b[38;5;124m'\u001b[39m, ms\u001b[38;5;241m=\u001b[39m\u001b[38;5;241m8\u001b[39m, label\u001b[38;5;241m=\u001b[39m\u001b[38;5;124m'\u001b[39m\u001b[38;5;124mrandint pmf\u001b[39m\u001b[38;5;124m'\u001b[39m)\n\u001b[1;32m      9\u001b[0m ax\u001b[38;5;241m.\u001b[39mvlines(x, \u001b[38;5;241m0\u001b[39m, randint\u001b[38;5;241m.\u001b[39mpmf(x, low, high), colors\u001b[38;5;241m=\u001b[39m\u001b[38;5;124m'\u001b[39m\u001b[38;5;124mb\u001b[39m\u001b[38;5;124m'\u001b[39m, lw\u001b[38;5;241m=\u001b[39m\u001b[38;5;241m5\u001b[39m, alpha\u001b[38;5;241m=\u001b[39m\u001b[38;5;241m0.5\u001b[39m)\n",
      "\u001b[0;31mValueError\u001b[0m: arange: cannot compute length"
     ]
    },
    {
     "data": {
      "image/png": "[encoded data removed]",
      "text/plain": [
       "<Figure size 640x480 with 1 Axes>"
      ]
     },
     "metadata": {},
     "output_type": "display_data"
    }
   ],
   "source": [
    "#method2\n",
    "fig, ax = plt.subplots(1, 1)\n",
    "low, high = f_min, f_max\n",
    "mean, var, skew, kurt = randint.stats(low, high, moments='mvsk')\n",
    "x = np.arange(randint.ppf(0.01, low, high),randint.ppf(0.99, low, high))\n",
    "\n",
    "ax.plot(x, randint.pmf(x, low, high), 'bo', ms=8, label='randint pmf')\n",
    "\n",
    "ax.vlines(x, 0, randint.pmf(x, low, high), colors='b', lw=5, alpha=0.5)\n"
   ]
  },
  {
   "cell_type": "code",
   "execution_count": 9,
   "id": "44f4923f",
   "metadata": {},
   "outputs": [
    {
     "ename": "NameError",
     "evalue": "name 'x' is not defined",
     "output_type": "error",
     "traceback": [
      "\u001b[0;31m---------------------------------------------------------------------------\u001b[0m",
      "\u001b[0;31mNameError\u001b[0m                                 Traceback (most recent call last)",
      "Cell \u001b[0;32mIn[9], line 3\u001b[0m\n\u001b[1;32m      1\u001b[0m rv \u001b[38;5;241m=\u001b[39m randint(low, high)\n\u001b[0;32m----> 3\u001b[0m ax\u001b[38;5;241m.\u001b[39mvlines(\u001b[43mx\u001b[49m, \u001b[38;5;241m0\u001b[39m, rv\u001b[38;5;241m.\u001b[39mpmf(x), colors\u001b[38;5;241m=\u001b[39m\u001b[38;5;124m'\u001b[39m\u001b[38;5;124mk\u001b[39m\u001b[38;5;124m'\u001b[39m, linestyles\u001b[38;5;241m=\u001b[39m\u001b[38;5;124m'\u001b[39m\u001b[38;5;124m-\u001b[39m\u001b[38;5;124m'\u001b[39m, lw\u001b[38;5;241m=\u001b[39m\u001b[38;5;241m1\u001b[39m,\n\u001b[1;32m      4\u001b[0m \n\u001b[1;32m      5\u001b[0m         label\u001b[38;5;241m=\u001b[39m\u001b[38;5;124m'\u001b[39m\u001b[38;5;124mfrozen pmf\u001b[39m\u001b[38;5;124m'\u001b[39m)\n\u001b[1;32m      7\u001b[0m ax\u001b[38;5;241m.\u001b[39mlegend(loc\u001b[38;5;241m=\u001b[39m\u001b[38;5;124m'\u001b[39m\u001b[38;5;124mbest\u001b[39m\u001b[38;5;124m'\u001b[39m, frameon\u001b[38;5;241m=\u001b[39m\u001b[38;5;28;01mFalse\u001b[39;00m)\n\u001b[1;32m      9\u001b[0m plt\u001b[38;5;241m.\u001b[39mshow\n",
      "\u001b[0;31mNameError\u001b[0m: name 'x' is not defined"
     ]
    }
   ],
   "source": [
    "rv = randint(low, high)\n",
    "\n",
    "ax.vlines(x, 0, rv.pmf(x), colors='k', linestyles='-', lw=1,label='frozen pmf')\n",
    "\n",
    "ax.legend(loc='best', frameon=False)\n",
    "\n",
    "plt.show"
   ]
  },
  {
   "cell_type": "code",
   "execution_count": null,
   "id": "53b273e7",
   "metadata": {},
   "outputs": [],
   "source": []
  }
 ],
 "metadata": {
  "kernelspec": {
   "display_name": "lisaenv",
   "language": "python",
   "name": "lisaenv"
  },
  "language_info": {
   "codemirror_mode": {
    "name": "ipython",
    "version": 3
   },
   "file_extension": ".py",
   "mimetype": "text/x-python",
   "name": "python",
   "nbconvert_exporter": "python",
   "pygments_lexer": "ipython3",
   "version": "3.9.16"
  }
 },
 "nbformat": 4,
 "nbformat_minor": 5
}
