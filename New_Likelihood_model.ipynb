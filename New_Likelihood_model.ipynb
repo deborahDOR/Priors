{
 "cells": [
  {
   "cell_type": "code",
   "execution_count": 14,
   "id": "efdeba45",
   "metadata": {},
   "outputs": [],
   "source": [
    "from ldc.lisa import orbits\n",
    "from ldc.lisa.noise import get_noise_model\n",
    "from astropy import units as un\n",
    "import numpy as np\n",
    "import matplotlib.pyplot as plt\n",
    "import math\n",
    "from spritz import utils, inference, masking, waveforms, sampling\n",
    "import xarray as xr"
   ]
  },
  {
   "cell_type": "code",
   "execution_count": 2,
   "id": "912d8cf0",
   "metadata": {},
   "outputs": [],
   "source": [
    "dt=15\n",
    "tobs=60*60*24*30*6\n",
    "n_data=1036800"
   ]
  },
  {
   "cell_type": "code",
   "execution_count": 3,
   "id": "41a2ed5d",
   "metadata": {},
   "outputs": [],
   "source": [
    "Param=np.array([-21.84367129,   7.74,       -20.62049506,  -0.56836753,   0.67456026,\n",
    "  -0.18608149,   0.40864213,   1.89900672])\n"
   ]
  },
  {
   "cell_type": "code",
   "execution_count": 98,
   "id": "80c29ffc",
   "metadata": {},
   "outputs": [],
   "source": [
    "# Set orbit model\n",
    "lisa_orbits = orbits.Orbits.type(dict({\"nominal_arm_length\":2.5e6*un.km,\n",
    "                                        \"initial_rotation\":0*un.rad,\n",
    "                                        \"initial_position\":0*un.rad,\n",
    "                                        \"orbit_type\":\"analytic\"}))\n",
    "pgb=utils.sample2waveform(Param)\n",
    "# Set waveform model\n",
    "my_gb = waveforms.MyFastGB(delta_t=dt, T=tobs, orbits=lisa_orbits) # in seconds\n",
    "\n",
    "# Set noise model\n",
    "freqs = np.fft.fftfreq(n_data)/dt\n",
    "#set data \n",
    "Data_TF=my_gb.get_fd_tdixyz(template=pgb, oversample=4, tdi2=True,freqs=freqs)\n",
    "\n",
    "\n",
    "noise_model = get_noise_model(\"spritz\", freqs[freqs>0], wd=0)\n",
    "    \n",
    "# Set likelihood\n",
    "Af = (Data_TF[2] - Data_TF[0]) / np.sqrt(2)\n",
    "Ef = (Data_TF[0] - 2 * Data_TF[1] + Data_TF[2]) / np.sqrt(6)\n",
    "\n",
    "\n",
    "def logliklihood(freqs,data,signal,s_n):\n",
    "    df=1/(my_gb.T)\n",
    "    snr2 = np.sum((data[:])*np.conjugate(signal[:]).real / s_n)\n",
    "    hh = np.sum((np.conjugate(signal[:])*signal[:] / s_n))\n",
    "    loglik = 4.0 * df * (snr2 - 0.5 * hh)\n"
   ]
  },
  {
   "cell_type": "code",
   "execution_count": 99,
   "id": "b9b198e6",
   "metadata": {},
   "outputs": [
    {
     "name": "stdout",
     "output_type": "stream",
     "text": [
      "1036800\n"
     ]
    }
   ],
   "source": [
    "print(len(freqs))"
   ]
  },
  {
   "cell_type": "code",
   "execution_count": 66,
   "id": "16ffbdfc",
   "metadata": {},
   "outputs": [
    {
     "name": "stdout",
     "output_type": "stream",
     "text": [
      "<class 'spritz.waveforms.MyFastGB'>\n",
      "<class 'xarray.core.dataarray.DataArray'>\n",
      "<class 'numpy.ndarray'>\n",
      "<class 'numpy.ndarray'>\n",
      "<class 'pandas.core.series.Series'>\n",
      "<class 'xarray.core.dataarray.DataArray'>\n",
      "<xarray.DataArray (index: 1036800)>\n",
      "array([ 0.00000000e+00,  6.43004115e-08,  1.28600823e-07, ...,\n",
      "       -1.92901235e-07, -1.28600823e-07, -6.43004115e-08])\n",
      "Coordinates:\n",
      "  * index    (index) int64 0 1 2 3 4 ... 1036795 1036796 1036797 1036798 1036799\n"
     ]
    }
   ],
   "source": [
    "import pandas as pd\n",
    "print(type(my_gb))\n",
    "print(type(Af))\n",
    "af=xr.DataArray.to_numpy(Af)\n",
    "ef=xr.DataArray.to_numpy(Ef)\n",
    "print(type(af))\n",
    "print(type(ef))\n",
    "\n",
    "#xr.DataArray(array, coords=da.coords, dims=da.dims, attrs=da.attrs)\n",
    "#fr1=pd.DataFrame(freqs, columns =['f'])\n",
    "fr1=pd.Series(freqs) \n",
    "f=pd.DataFrame.to_xarray(fr1)\n",
    "print(type(fr1))\n",
    "print(type(f))\n",
    "print(f)\n",
    "#freqs_array=xr.Dataset.to_array(fr2)\n",
    "#print(freqs_array)"
   ]
  },
  {
   "cell_type": "code",
   "execution_count": 94,
   "id": "9a09b189",
   "metadata": {},
   "outputs": [
    {
     "name": "stdout",
     "output_type": "stream",
     "text": [
      "<xarray.DataArray (index: 1036800)>\n",
      "array([ 0.00000000e+00,  6.43004115e-08,  1.28600823e-07, ...,\n",
      "       -1.92901235e-07, -1.28600823e-07, -6.43004115e-08])\n",
      "Coordinates:\n",
      "  * index    (index) float64 0.0 6.43e-08 1.286e-07 ... -1.286e-07 -6.43e-08\n",
      "<xarray.DataArray (f: 1036800)>\n",
      "array([-1.58843123e-22-1.93115841e-22j, -1.58842538e-22-1.93116323e-22j,\n",
      "       -1.58841952e-22-1.93116804e-22j, ...,\n",
      "       -1.58844878e-22-1.93114397e-22j, -1.58844293e-22-1.93114879e-22j,\n",
      "       -1.58843708e-22-1.93115360e-22j])\n",
      "Coordinates:\n",
      "  * f        (f) float64 -0.02559 -0.02559 -0.02559 ... 0.04107 0.04107 0.04107\n"
     ]
    }
   ],
   "source": [
    "freqs_array=xr.DataArray(freqs,coords=[f])\n",
    "#xr.DataArray(freqs, coords=da.coords, dims=da.dims, attrs=da.attrs)\n",
    "print(freqs_array)\n",
    "print(Af)"
   ]
  },
  {
   "cell_type": "code",
   "execution_count": 100,
   "id": "20be45dd",
   "metadata": {},
   "outputs": [],
   "source": [
    "loglike_cls = inference.GBLikelihood(freqs_array, [Af, Ef], \n",
    "                                         noise_model=noise_model, \n",
    "                                         signal_model=my_gb)\n"
   ]
  },
  {
   "cell_type": "code",
   "execution_count": 101,
   "id": "65eba574",
   "metadata": {},
   "outputs": [
    {
     "ename": "ValueError",
     "evalue": "cannot reindex or align along dimension 'f' because the (pandas) index has duplicate values",
     "output_type": "error",
     "traceback": [
      "\u001b[0;31m---------------------------------------------------------------------------\u001b[0m",
      "\u001b[0;31mValueError\u001b[0m                                Traceback (most recent call last)",
      "Cell \u001b[0;32mIn[101], line 1\u001b[0m\n\u001b[0;32m----> 1\u001b[0m logvalue\u001b[38;5;241m=\u001b[39m\u001b[43mloglike_cls\u001b[49m\u001b[38;5;241;43m.\u001b[39;49m\u001b[43mevaluate\u001b[49m\u001b[43m(\u001b[49m\u001b[43mParam\u001b[49m\u001b[43m)\u001b[49m\n",
      "File \u001b[0;32m~/Documents/lisaenv/lib/lisa-irfu-spritz-master/spritz/inference.py:340\u001b[0m, in \u001b[0;36mGBLikelihood.evaluate\u001b[0;34m(self, pars)\u001b[0m\n\u001b[1;32m    335\u001b[0m data_ae_flat \u001b[38;5;241m=\u001b[39m xr\u001b[38;5;241m.\u001b[39mconcat(\n\u001b[1;32m    336\u001b[0m     (\u001b[38;5;28mself\u001b[39m\u001b[38;5;241m.\u001b[39mdata_y[\u001b[38;5;241m0\u001b[39m][ib:ie], \u001b[38;5;28mself\u001b[39m\u001b[38;5;241m.\u001b[39mdata_y[\u001b[38;5;241m1\u001b[39m][ib:ie]), dim\u001b[38;5;241m=\u001b[39m\u001b[38;5;124m\"\u001b[39m\u001b[38;5;124mf\u001b[39m\u001b[38;5;124m\"\u001b[39m\n\u001b[1;32m    337\u001b[0m )\n\u001b[1;32m    339\u001b[0m \u001b[38;5;66;03m# return sum([self.loglike(self.dataf_id[i], signal_ae[i], s_n) for i in range(len(self.dataf_id))])\u001b[39;00m\n\u001b[0;32m--> 340\u001b[0m \u001b[38;5;28;01mreturn\u001b[39;00m \u001b[38;5;28;43mself\u001b[39;49m\u001b[38;5;241;43m.\u001b[39;49m\u001b[43mloglike\u001b[49m\u001b[43m(\u001b[49m\u001b[43mdata_ae_flat\u001b[49m\u001b[43m,\u001b[49m\u001b[43m \u001b[49m\u001b[43msignal_ae_flat\u001b[49m\u001b[43m,\u001b[49m\u001b[43m \u001b[49m\u001b[43ms_n\u001b[49m\u001b[43m)\u001b[49m\n",
      "File \u001b[0;32m~/Documents/lisaenv/lib/lisa-irfu-spritz-master/spritz/inference.py:248\u001b[0m, in \u001b[0;36mGBLikelihood.loglike\u001b[0;34m(self, data_ae, signal_ae, s_n)\u001b[0m\n\u001b[1;32m    236\u001b[0m \u001b[38;5;28;01mdef\u001b[39;00m \u001b[38;5;21mloglike\u001b[39m(\u001b[38;5;28mself\u001b[39m, data_ae, signal_ae, s_n):\n\u001b[1;32m    237\u001b[0m \u001b[38;5;250m    \u001b[39m\u001b[38;5;124;03m\"\"\"Compute the log-likelihood from the waveform\u001b[39;00m\n\u001b[1;32m    238\u001b[0m \u001b[38;5;124;03m    frequency series\u001b[39;00m\n\u001b[1;32m    239\u001b[0m \n\u001b[0;32m   (...)\u001b[0m\n\u001b[1;32m    245\u001b[0m \u001b[38;5;124;03m        PSD computed at the same frequencies as the signal\u001b[39;00m\n\u001b[1;32m    246\u001b[0m \u001b[38;5;124;03m    \"\"\"\u001b[39;00m\n\u001b[0;32m--> 248\u001b[0m     snr2 \u001b[38;5;241m=\u001b[39m ((\u001b[43mdata_ae\u001b[49m\u001b[43m[\u001b[49m\u001b[43m:\u001b[49m\u001b[43m]\u001b[49m\u001b[43m \u001b[49m\u001b[38;5;241;43m*\u001b[39;49m\u001b[43m \u001b[49m\u001b[43msignal_ae\u001b[49m\u001b[43m[\u001b[49m\u001b[43m:\u001b[49m\u001b[43m]\u001b[49m\u001b[38;5;241;43m.\u001b[39;49m\u001b[43mconj\u001b[49m\u001b[43m(\u001b[49m\u001b[43m)\u001b[49m)\u001b[38;5;241m.\u001b[39mreal \u001b[38;5;241m/\u001b[39m s_n)\u001b[38;5;241m.\u001b[39msum()\n\u001b[1;32m    249\u001b[0m     hh \u001b[38;5;241m=\u001b[39m (signal_ae[:] \u001b[38;5;241m*\u001b[39m signal_ae[:]\u001b[38;5;241m.\u001b[39mconj() \u001b[38;5;241m/\u001b[39m s_n)\u001b[38;5;241m.\u001b[39msum()\n\u001b[1;32m    250\u001b[0m     loglik \u001b[38;5;241m=\u001b[39m \u001b[38;5;241m4.0\u001b[39m \u001b[38;5;241m*\u001b[39m \u001b[38;5;28mself\u001b[39m\u001b[38;5;241m.\u001b[39mdf \u001b[38;5;241m*\u001b[39m (snr2 \u001b[38;5;241m-\u001b[39m \u001b[38;5;241m0.5\u001b[39m \u001b[38;5;241m*\u001b[39m hh)\n",
      "File \u001b[0;32m~/Documents/lisaenv/lib/python3.9/site-packages/xarray/core/_typed_ops.py:212\u001b[0m, in \u001b[0;36mDataArrayOpsMixin.__mul__\u001b[0;34m(self, other)\u001b[0m\n\u001b[1;32m    211\u001b[0m \u001b[38;5;28;01mdef\u001b[39;00m \u001b[38;5;21m__mul__\u001b[39m(\u001b[38;5;28mself\u001b[39m, other):\n\u001b[0;32m--> 212\u001b[0m     \u001b[38;5;28;01mreturn\u001b[39;00m \u001b[38;5;28;43mself\u001b[39;49m\u001b[38;5;241;43m.\u001b[39;49m\u001b[43m_binary_op\u001b[49m\u001b[43m(\u001b[49m\u001b[43mother\u001b[49m\u001b[43m,\u001b[49m\u001b[43m \u001b[49m\u001b[43moperator\u001b[49m\u001b[38;5;241;43m.\u001b[39;49m\u001b[43mmul\u001b[49m\u001b[43m)\u001b[49m\n",
      "File \u001b[0;32m~/Documents/lisaenv/lib/python3.9/site-packages/xarray/core/dataarray.py:4350\u001b[0m, in \u001b[0;36mDataArray._binary_op\u001b[0;34m(self, other, f, reflexive)\u001b[0m\n\u001b[1;32m   4348\u001b[0m \u001b[38;5;28;01mif\u001b[39;00m \u001b[38;5;28misinstance\u001b[39m(other, DataArray):\n\u001b[1;32m   4349\u001b[0m     align_type \u001b[38;5;241m=\u001b[39m OPTIONS[\u001b[38;5;124m\"\u001b[39m\u001b[38;5;124marithmetic_join\u001b[39m\u001b[38;5;124m\"\u001b[39m]\n\u001b[0;32m-> 4350\u001b[0m     \u001b[38;5;28mself\u001b[39m, other \u001b[38;5;241m=\u001b[39m \u001b[43malign\u001b[49m\u001b[43m(\u001b[49m\u001b[38;5;28;43mself\u001b[39;49m\u001b[43m,\u001b[49m\u001b[43m \u001b[49m\u001b[43mother\u001b[49m\u001b[43m,\u001b[49m\u001b[43m \u001b[49m\u001b[43mjoin\u001b[49m\u001b[38;5;241;43m=\u001b[39;49m\u001b[43malign_type\u001b[49m\u001b[43m,\u001b[49m\u001b[43m \u001b[49m\u001b[43mcopy\u001b[49m\u001b[38;5;241;43m=\u001b[39;49m\u001b[38;5;28;43;01mFalse\u001b[39;49;00m\u001b[43m)\u001b[49m  \u001b[38;5;66;03m# type: ignore\u001b[39;00m\n\u001b[1;32m   4351\u001b[0m other_variable \u001b[38;5;241m=\u001b[39m \u001b[38;5;28mgetattr\u001b[39m(other, \u001b[38;5;124m\"\u001b[39m\u001b[38;5;124mvariable\u001b[39m\u001b[38;5;124m\"\u001b[39m, other)\n\u001b[1;32m   4352\u001b[0m other_coords \u001b[38;5;241m=\u001b[39m \u001b[38;5;28mgetattr\u001b[39m(other, \u001b[38;5;124m\"\u001b[39m\u001b[38;5;124mcoords\u001b[39m\u001b[38;5;124m\"\u001b[39m, \u001b[38;5;28;01mNone\u001b[39;00m)\n",
      "File \u001b[0;32m~/Documents/lisaenv/lib/python3.9/site-packages/xarray/core/alignment.py:785\u001b[0m, in \u001b[0;36malign\u001b[0;34m(join, copy, indexes, exclude, fill_value, *objects)\u001b[0m\n\u001b[1;32m    589\u001b[0m \u001b[38;5;250m\u001b[39m\u001b[38;5;124;03m\"\"\"\u001b[39;00m\n\u001b[1;32m    590\u001b[0m \u001b[38;5;124;03mGiven any number of Dataset and/or DataArray objects, returns new\u001b[39;00m\n\u001b[1;32m    591\u001b[0m \u001b[38;5;124;03mobjects with aligned indexes and dimension sizes.\u001b[39;00m\n\u001b[0;32m   (...)\u001b[0m\n\u001b[1;32m    775\u001b[0m \n\u001b[1;32m    776\u001b[0m \u001b[38;5;124;03m\"\"\"\u001b[39;00m\n\u001b[1;32m    777\u001b[0m aligner \u001b[38;5;241m=\u001b[39m Aligner(\n\u001b[1;32m    778\u001b[0m     objects,\n\u001b[1;32m    779\u001b[0m     join\u001b[38;5;241m=\u001b[39mjoin,\n\u001b[0;32m   (...)\u001b[0m\n\u001b[1;32m    783\u001b[0m     fill_value\u001b[38;5;241m=\u001b[39mfill_value,\n\u001b[1;32m    784\u001b[0m )\n\u001b[0;32m--> 785\u001b[0m \u001b[43maligner\u001b[49m\u001b[38;5;241;43m.\u001b[39;49m\u001b[43malign\u001b[49m\u001b[43m(\u001b[49m\u001b[43m)\u001b[49m\n\u001b[1;32m    786\u001b[0m \u001b[38;5;28;01mreturn\u001b[39;00m aligner\u001b[38;5;241m.\u001b[39mresults\n",
      "File \u001b[0;32m~/Documents/lisaenv/lib/python3.9/site-packages/xarray/core/alignment.py:578\u001b[0m, in \u001b[0;36mAligner.align\u001b[0;34m(self)\u001b[0m\n\u001b[1;32m    576\u001b[0m     \u001b[38;5;28mself\u001b[39m\u001b[38;5;241m.\u001b[39moverride_indexes()\n\u001b[1;32m    577\u001b[0m \u001b[38;5;28;01melse\u001b[39;00m:\n\u001b[0;32m--> 578\u001b[0m     \u001b[38;5;28;43mself\u001b[39;49m\u001b[38;5;241;43m.\u001b[39;49m\u001b[43mreindex_all\u001b[49m\u001b[43m(\u001b[49m\u001b[43m)\u001b[49m\n",
      "File \u001b[0;32m~/Documents/lisaenv/lib/python3.9/site-packages/xarray/core/alignment.py:555\u001b[0m, in \u001b[0;36mAligner.reindex_all\u001b[0;34m(self)\u001b[0m\n\u001b[1;32m    554\u001b[0m \u001b[38;5;28;01mdef\u001b[39;00m \u001b[38;5;21mreindex_all\u001b[39m(\u001b[38;5;28mself\u001b[39m) \u001b[38;5;241m-\u001b[39m\u001b[38;5;241m>\u001b[39m \u001b[38;5;28;01mNone\u001b[39;00m:\n\u001b[0;32m--> 555\u001b[0m     \u001b[38;5;28mself\u001b[39m\u001b[38;5;241m.\u001b[39mresults \u001b[38;5;241m=\u001b[39m \u001b[38;5;28;43mtuple\u001b[39;49m\u001b[43m(\u001b[49m\n\u001b[1;32m    556\u001b[0m \u001b[43m        \u001b[49m\u001b[38;5;28;43mself\u001b[39;49m\u001b[38;5;241;43m.\u001b[39;49m\u001b[43m_reindex_one\u001b[49m\u001b[43m(\u001b[49m\u001b[43mobj\u001b[49m\u001b[43m,\u001b[49m\u001b[43m \u001b[49m\u001b[43mmatching_indexes\u001b[49m\u001b[43m)\u001b[49m\n\u001b[1;32m    557\u001b[0m \u001b[43m        \u001b[49m\u001b[38;5;28;43;01mfor\u001b[39;49;00m\u001b[43m \u001b[49m\u001b[43mobj\u001b[49m\u001b[43m,\u001b[49m\u001b[43m \u001b[49m\u001b[43mmatching_indexes\u001b[49m\u001b[43m \u001b[49m\u001b[38;5;129;43;01min\u001b[39;49;00m\u001b[43m \u001b[49m\u001b[38;5;28;43mzip\u001b[39;49m\u001b[43m(\u001b[49m\n\u001b[1;32m    558\u001b[0m \u001b[43m            \u001b[49m\u001b[38;5;28;43mself\u001b[39;49m\u001b[38;5;241;43m.\u001b[39;49m\u001b[43mobjects\u001b[49m\u001b[43m,\u001b[49m\u001b[43m \u001b[49m\u001b[38;5;28;43mself\u001b[39;49m\u001b[38;5;241;43m.\u001b[39;49m\u001b[43mobjects_matching_indexes\u001b[49m\n\u001b[1;32m    559\u001b[0m \u001b[43m        \u001b[49m\u001b[43m)\u001b[49m\n\u001b[1;32m    560\u001b[0m \u001b[43m    \u001b[49m\u001b[43m)\u001b[49m\n",
      "File \u001b[0;32m~/Documents/lisaenv/lib/python3.9/site-packages/xarray/core/alignment.py:556\u001b[0m, in \u001b[0;36m<genexpr>\u001b[0;34m(.0)\u001b[0m\n\u001b[1;32m    554\u001b[0m \u001b[38;5;28;01mdef\u001b[39;00m \u001b[38;5;21mreindex_all\u001b[39m(\u001b[38;5;28mself\u001b[39m) \u001b[38;5;241m-\u001b[39m\u001b[38;5;241m>\u001b[39m \u001b[38;5;28;01mNone\u001b[39;00m:\n\u001b[1;32m    555\u001b[0m     \u001b[38;5;28mself\u001b[39m\u001b[38;5;241m.\u001b[39mresults \u001b[38;5;241m=\u001b[39m \u001b[38;5;28mtuple\u001b[39m(\n\u001b[0;32m--> 556\u001b[0m         \u001b[38;5;28;43mself\u001b[39;49m\u001b[38;5;241;43m.\u001b[39;49m\u001b[43m_reindex_one\u001b[49m\u001b[43m(\u001b[49m\u001b[43mobj\u001b[49m\u001b[43m,\u001b[49m\u001b[43m \u001b[49m\u001b[43mmatching_indexes\u001b[49m\u001b[43m)\u001b[49m\n\u001b[1;32m    557\u001b[0m         \u001b[38;5;28;01mfor\u001b[39;00m obj, matching_indexes \u001b[38;5;129;01min\u001b[39;00m \u001b[38;5;28mzip\u001b[39m(\n\u001b[1;32m    558\u001b[0m             \u001b[38;5;28mself\u001b[39m\u001b[38;5;241m.\u001b[39mobjects, \u001b[38;5;28mself\u001b[39m\u001b[38;5;241m.\u001b[39mobjects_matching_indexes\n\u001b[1;32m    559\u001b[0m         )\n\u001b[1;32m    560\u001b[0m     )\n",
      "File \u001b[0;32m~/Documents/lisaenv/lib/python3.9/site-packages/xarray/core/alignment.py:540\u001b[0m, in \u001b[0;36mAligner._reindex_one\u001b[0;34m(self, obj, matching_indexes)\u001b[0m\n\u001b[1;32m    534\u001b[0m \u001b[38;5;28;01mdef\u001b[39;00m \u001b[38;5;21m_reindex_one\u001b[39m(\n\u001b[1;32m    535\u001b[0m     \u001b[38;5;28mself\u001b[39m,\n\u001b[1;32m    536\u001b[0m     obj: DataAlignable,\n\u001b[1;32m    537\u001b[0m     matching_indexes: \u001b[38;5;28mdict\u001b[39m[MatchingIndexKey, Index],\n\u001b[1;32m    538\u001b[0m ) \u001b[38;5;241m-\u001b[39m\u001b[38;5;241m>\u001b[39m DataAlignable:\n\u001b[1;32m    539\u001b[0m     new_indexes, new_variables \u001b[38;5;241m=\u001b[39m \u001b[38;5;28mself\u001b[39m\u001b[38;5;241m.\u001b[39m_get_indexes_and_vars(obj, matching_indexes)\n\u001b[0;32m--> 540\u001b[0m     dim_pos_indexers \u001b[38;5;241m=\u001b[39m \u001b[38;5;28;43mself\u001b[39;49m\u001b[38;5;241;43m.\u001b[39;49m\u001b[43m_get_dim_pos_indexers\u001b[49m\u001b[43m(\u001b[49m\u001b[43mmatching_indexes\u001b[49m\u001b[43m)\u001b[49m\n\u001b[1;32m    542\u001b[0m     new_obj \u001b[38;5;241m=\u001b[39m obj\u001b[38;5;241m.\u001b[39m_reindex_callback(\n\u001b[1;32m    543\u001b[0m         \u001b[38;5;28mself\u001b[39m,\n\u001b[1;32m    544\u001b[0m         dim_pos_indexers,\n\u001b[0;32m   (...)\u001b[0m\n\u001b[1;32m    549\u001b[0m         \u001b[38;5;28mself\u001b[39m\u001b[38;5;241m.\u001b[39mexclude_vars,\n\u001b[1;32m    550\u001b[0m     )\n\u001b[1;32m    551\u001b[0m     new_obj\u001b[38;5;241m.\u001b[39mencoding \u001b[38;5;241m=\u001b[39m obj\u001b[38;5;241m.\u001b[39mencoding\n",
      "File \u001b[0;32m~/Documents/lisaenv/lib/python3.9/site-packages/xarray/core/alignment.py:506\u001b[0m, in \u001b[0;36mAligner._get_dim_pos_indexers\u001b[0;34m(self, matching_indexes)\u001b[0m\n\u001b[1;32m    504\u001b[0m     \u001b[38;5;28;01mif\u001b[39;00m obj_idx \u001b[38;5;129;01mis\u001b[39;00m \u001b[38;5;129;01mnot\u001b[39;00m \u001b[38;5;28;01mNone\u001b[39;00m:\n\u001b[1;32m    505\u001b[0m         \u001b[38;5;28;01mif\u001b[39;00m \u001b[38;5;28mself\u001b[39m\u001b[38;5;241m.\u001b[39mreindex[key]:\n\u001b[0;32m--> 506\u001b[0m             indexers \u001b[38;5;241m=\u001b[39m \u001b[43mobj_idx\u001b[49m\u001b[38;5;241;43m.\u001b[39;49m\u001b[43mreindex_like\u001b[49m\u001b[43m(\u001b[49m\u001b[43maligned_idx\u001b[49m\u001b[43m,\u001b[49m\u001b[43m \u001b[49m\u001b[38;5;241;43m*\u001b[39;49m\u001b[38;5;241;43m*\u001b[39;49m\u001b[38;5;28;43mself\u001b[39;49m\u001b[38;5;241;43m.\u001b[39;49m\u001b[43mreindex_kwargs\u001b[49m\u001b[43m)\u001b[49m\n\u001b[1;32m    507\u001b[0m             dim_pos_indexers\u001b[38;5;241m.\u001b[39mupdate(indexers)\n\u001b[1;32m    509\u001b[0m \u001b[38;5;28;01mreturn\u001b[39;00m dim_pos_indexers\n",
      "File \u001b[0;32m~/Documents/lisaenv/lib/python3.9/site-packages/xarray/core/indexes.py:507\u001b[0m, in \u001b[0;36mPandasIndex.reindex_like\u001b[0;34m(self, other, method, tolerance)\u001b[0m\n\u001b[1;32m    503\u001b[0m \u001b[38;5;28;01mdef\u001b[39;00m \u001b[38;5;21mreindex_like\u001b[39m(\n\u001b[1;32m    504\u001b[0m     \u001b[38;5;28mself\u001b[39m, other: PandasIndex, method\u001b[38;5;241m=\u001b[39m\u001b[38;5;28;01mNone\u001b[39;00m, tolerance\u001b[38;5;241m=\u001b[39m\u001b[38;5;28;01mNone\u001b[39;00m\n\u001b[1;32m    505\u001b[0m ) \u001b[38;5;241m-\u001b[39m\u001b[38;5;241m>\u001b[39m \u001b[38;5;28mdict\u001b[39m[Hashable, Any]:\n\u001b[1;32m    506\u001b[0m     \u001b[38;5;28;01mif\u001b[39;00m \u001b[38;5;129;01mnot\u001b[39;00m \u001b[38;5;28mself\u001b[39m\u001b[38;5;241m.\u001b[39mindex\u001b[38;5;241m.\u001b[39mis_unique:\n\u001b[0;32m--> 507\u001b[0m         \u001b[38;5;28;01mraise\u001b[39;00m \u001b[38;5;167;01mValueError\u001b[39;00m(\n\u001b[1;32m    508\u001b[0m             \u001b[38;5;124mf\u001b[39m\u001b[38;5;124m\"\u001b[39m\u001b[38;5;124mcannot reindex or align along dimension \u001b[39m\u001b[38;5;132;01m{\u001b[39;00m\u001b[38;5;28mself\u001b[39m\u001b[38;5;241m.\u001b[39mdim\u001b[38;5;132;01m!r}\u001b[39;00m\u001b[38;5;124m because the \u001b[39m\u001b[38;5;124m\"\u001b[39m\n\u001b[1;32m    509\u001b[0m             \u001b[38;5;124m\"\u001b[39m\u001b[38;5;124m(pandas) index has duplicate values\u001b[39m\u001b[38;5;124m\"\u001b[39m\n\u001b[1;32m    510\u001b[0m         )\n\u001b[1;32m    512\u001b[0m     \u001b[38;5;28;01mreturn\u001b[39;00m {\u001b[38;5;28mself\u001b[39m\u001b[38;5;241m.\u001b[39mdim: get_indexer_nd(\u001b[38;5;28mself\u001b[39m\u001b[38;5;241m.\u001b[39mindex, other\u001b[38;5;241m.\u001b[39mindex, method, tolerance)}\n",
      "\u001b[0;31mValueError\u001b[0m: cannot reindex or align along dimension 'f' because the (pandas) index has duplicate values"
     ]
    }
   ],
   "source": [
    "logvalue=loglike_cls.evaluate(Param)"
   ]
  },
  {
   "cell_type": "code",
   "execution_count": null,
   "id": "73570360",
   "metadata": {},
   "outputs": [],
   "source": []
  },
  {
   "cell_type": "code",
   "execution_count": null,
   "id": "294f48dd",
   "metadata": {},
   "outputs": [],
   "source": []
  }
 ],
 "metadata": {
  "kernelspec": {
   "display_name": "lisaenv",
   "language": "python",
   "name": "lisaenv"
  },
  "language_info": {
   "codemirror_mode": {
    "name": "ipython",
    "version": 3
   },
   "file_extension": ".py",
   "mimetype": "text/x-python",
   "name": "python",
   "nbconvert_exporter": "python",
   "pygments_lexer": "ipython3",
   "version": "3.9.16"
  }
 },
 "nbformat": 4,
 "nbformat_minor": 5
}
