{
 "cells": [
  {
   "cell_type": "code",
   "execution_count": null,
   "id": "26850a08",
   "metadata": {},
   "outputs": [],
   "source": [
    "from lisagwresponse import ReadStrain\n",
    "from h5py import File"
   ]
  },
  {
   "cell_type": "code",
   "execution_count": null,
   "id": "04aacbd7",
   "metadata": {},
   "outputs": [],
   "source": [
    "with File('keplerian-orbits-1-0-2.h5') as f:\n",
    "    orbit_t0 = f.attrs['t0']"
   ]
  },
  {
   "cell_type": "code",
   "execution_count": null,
   "id": "8c60b87e",
   "metadata": {},
   "outputs": [],
   "source": [
    "t = orbit_t0 + np.arange(2000)\n",
    "\n",
    "T=3.1536e7\n",
    "f_m=1/T\n",
    "m=m1+m2\n",
    "eta=(m1*m2)/m**2\n",
    "Mc=m*eta**(3/5)\n",
    "df0=96/5*np.pi**(8/3)*Mc**(5/3)*f0**(11/3)\n",
    "#A0=\n",
    "\n",
    "#location of the source\n",
    "#teta=\n",
    "#phi= \n",
    "Phi=2*np.pi*f0*t+np.pi*df0*t**2+2*np.pi(f0+df0*t)*R*np.sin(theta)*np.cos(2*np.pi*fm*t-phi)\n",
    "\n",
    "\n",
    "h_plus=A_0*(1+np.cos(angle)**2)*(np.cos(Phi-phi_0))\n",
    "h_cross=_2*A_0*(np.cos(angle))*np.sin(Phi-phi_0)\n",
    "\n",
    "alpha=(2*np.pi*t)/T\n",
    "#phi_pol=\n",
    "lamb=[O,3*np.pi/2] \n",
    "D_plus=np.sqrt(3)/64*((-36*np.sin(2*alpha-2*lamb)+(3+np.cos(2*theta)))*\n",
    "np.cos(2*phi)*(9*np.sin(2*lamb)-np.sin(4*alpha-2*lamb))+np.sin(2*phi)*(np.cos(4*alpha-2*lamb)-9*np.cos(2*lamb))\n",
    "-4*np.sqrt(3)*np.sin(2*theta)*(np.sin(3*alpha-2*lamb-phi)-3*np.sin(alpha-2*lamb+phi)))\n",
    "D_cross=1/16*(np.sqrt(3)*np.cos(theta)*(9*np.cos(2*lamb-2*phi)-2*np.cos(4*alpha-2*lamb-2*phi))\n",
    "             -6*np.sin(theta)*(np.cos(3*alpha-2*lamb-phi)+3*np.cos(alpha-2*lamb+phi)))\n",
    "\n",
    "F_plus=1/2*(np.cos(2*phi_pol)*D_plus-np.sin(2*phi_pol)*D_croix)\n",
    "F_cross=1/2*(np.sin(2*phi_pol)*D_plus+np.cos(2*phi_pol)*D_croix)\n"
   ]
  }
 ],
 "metadata": {
  "kernelspec": {
   "display_name": "lisaenv",
   "language": "python",
   "name": "lisaenv"
  },
  "language_info": {
   "codemirror_mode": {
    "name": "ipython",
    "version": 3
   },
   "file_extension": ".py",
   "mimetype": "text/x-python",
   "name": "python",
   "nbconvert_exporter": "python",
   "pygments_lexer": "ipython3",
   "version": "3.9.16"
  }
 },
 "nbformat": 4,
 "nbformat_minor": 5
}
