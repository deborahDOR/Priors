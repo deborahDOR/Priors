{
 "cells": [
  {
   "cell_type": "code",
   "execution_count": 1,
   "id": "d024aaf0",
   "metadata": {},
   "outputs": [],
   "source": [
    "import matplotlib\n",
    "import matplotlib.pyplot as plt\n",
    "import numpy as np\n",
    "import scipy\n",
    "from scipy import integrate"
   ]
  },
  {
   "cell_type": "code",
   "execution_count": null,
   "id": "057f0fe0",
   "metadata": {},
   "outputs": [],
   "source": [
    "beta2=0.5116394637708428\n",
    "def Dist_BH(M,d):\n",
    "    #M=(645*10*alpha_moy)/(f*0.1)\n",
    "    return (1/(d+1))**(beta2)*Phi_s*(M/(M_star))**(1+alpha)*np.exp(1-(M/(M_star)))"
   ]
  },
  {
   "cell_type": "code",
   "execution_count": 5,
   "id": "cd896b34",
   "metadata": {},
   "outputs": [],
   "source": [
    "#frequency\n",
    "alpha_moy=0.12\n",
    "alpha=alpha_moy\n",
    "C1=(645*10*alpha_moy)/0.1\n",
    "def P_f0(f):\n",
    "    return (1/C1)*Dist_BH(f/C1)\n"
   ]
  },
  {
   "cell_type": "code",
   "execution_count": 7,
   "id": "0a078a65",
   "metadata": {},
   "outputs": [],
   "source": [
    "#frequency_derivative\n",
    "chi=0.5\n",
    "C2=3e14*10**2*(alpha/0.1)*chi**2\n",
    "def P_f0dot(f):\n",
    "    return ((2*f)/C2*2)*Dist_BH(f**2/C2)"
   ]
  },
  {
   "cell_type": "code",
   "execution_count": 8,
   "id": "0ecd2795",
   "metadata": {},
   "outputs": [],
   "source": [
    "M=[10**5,10**6,10**7,10**8,10**9]\n",
    "\n",
    "def integrande(M,d):\n",
    "    return np.abs(d)*dist_BH(M,d)\n",
    "\n",
    "\n",
    "def dist_z(x):\n",
    "    return  integrate.quad(integrande(x*d,d), 0, np.inf)"
   ]
  },
  {
   "cell_type": "code",
   "execution_count": 9,
   "id": "1fe8f2c2",
   "metadata": {},
   "outputs": [],
   "source": [
    "#amplitudeh0\n",
    "m=1\n",
    "d=8e3\n",
    "def chi_f(alpha_f):\n",
    "    return (4*alpha_f*m)/(4*alpha_f*m+m)\n",
    "    \n",
    "\n",
    "\n",
    "C3=(8e-28/10)*(alpha/0.1)**7*(10**6/d)*((chi-chi_f(alpha))/0.1)\n",
    "def P_h0(f):\n",
    "    return (1/(C3*f**2))*Dist_z(f/C3)"
   ]
  },
  {
   "cell_type": "code",
   "execution_count": null,
   "id": "018f082d",
   "metadata": {},
   "outputs": [],
   "source": []
  }
 ],
 "metadata": {
  "kernelspec": {
   "display_name": "lisaenv",
   "language": "python",
   "name": "lisaenv"
  },
  "language_info": {
   "codemirror_mode": {
    "name": "ipython",
    "version": 3
   },
   "file_extension": ".py",
   "mimetype": "text/x-python",
   "name": "python",
   "nbconvert_exporter": "python",
   "pygments_lexer": "ipython3",
   "version": "3.9.16"
  }
 },
 "nbformat": 4,
 "nbformat_minor": 5
}
